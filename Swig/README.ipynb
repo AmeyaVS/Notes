{
 "cells": [
  {
   "cell_type": "markdown",
   "metadata": {},
   "source": [
    "# README.md\n",
    "\n",
    "This folder contains samples to getting started with SWIG Python to C++ API interface generator.\n",
    "\n",
    " * [Basic](basic) : This folder contains the basic example/tutorial for introducing SWIG.\n",
    " * [CppTemplates](cpptemplates): This folder contains the example with C++ Template Class."
   ]
  }
 ],
 "metadata": {
  "kernelspec": {
   "display_name": "Python 2",
   "language": "python",
   "name": "python2"
  },
  "language_info": {
   "codemirror_mode": {
    "name": "ipython",
    "version": 2
   },
   "file_extension": ".py",
   "mimetype": "text/x-python",
   "name": "python",
   "nbconvert_exporter": "python",
   "pygments_lexer": "ipython2",
   "version": "2.7.12"
  }
 },
 "nbformat": 4,
 "nbformat_minor": 2
}
