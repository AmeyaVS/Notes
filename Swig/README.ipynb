{
 "cells": [
  {
   "cell_type": "markdown",
   "metadata": {},
   "source": [
    "# README\n",
    "\n",
    "This folder contains samples to getting started with SWIG Python to C++ API interface generator.\n",
    "\n",
    " * [Basic](basic) : This folder contains the basic example/tutorial for introducing SWIG.\n",
    " * [CppTemplates](cpptemplates): This folder contains the example with C++ Template Class.\n",
    " * [swig_speed_test](swig_speed_test): This folder contains an example comparing Python and C++ API's performance available [here](http://www.matthiaskauer.com/2013/11/swig-for-python-cmake-and-a-speed-comparison/)."
   ]
  }
 ],
 "metadata": {
  "kernelspec": {
   "display_name": "Python 2",
   "language": "python",
   "name": "python2"
  },
  "language_info": {
   "codemirror_mode": {
    "name": "ipython",
    "version": 2
   },
   "file_extension": ".py",
   "mimetype": "text/x-python",
   "name": "python",
   "nbconvert_exporter": "python",
   "pygments_lexer": "ipython2",
   "version": "2.7.12"
  }
 },
 "nbformat": 4,
 "nbformat_minor": 2
}
